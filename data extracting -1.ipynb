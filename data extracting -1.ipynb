{
 "cells": [
  {
   "cell_type": "markdown",
   "metadata": {},
   "source": [
    "### IMPORTING THE REQUIRED LIBRARIES:"
   ]
  },
  {
   "cell_type": "code",
   "execution_count": 1,
   "metadata": {},
   "outputs": [],
   "source": [
    "import pandas as pd\n",
    "import numpy as np\n",
    "import requests\n",
    "import matplotlib.pyplot as plt\n",
    "%matplotlib inline\n",
    "import sportsipy\n",
    "import sportsreference\n",
    "from sportsipy.nfl import boxscore,constants,nfl_utils,player,schedule,roster,teams\n",
    "from sportsipy.nfl.boxscore import Boxscores, Boxscore"
   ]
  },
  {
   "cell_type": "markdown",
   "metadata": {},
   "source": [
    "### Getting Data From boxscore\n",
    "##### 1. data in boxscore is stored in Boxscore as per year and week\n",
    "##### 2. schedules for predicting is from week 1 for 2021\n",
    "### Data should be collected for last 2 years for making good model:"
   ]
  },
  {
   "cell_type": "code",
   "execution_count": 53,
   "metadata": {},
   "outputs": [],
   "source": [
    "#current week to predict :\n",
    "current_week = 2\n",
    "current_year=2021\n",
    "#getting the weeks \n",
    "period = { year : list(range(1,1+current_week)) if year == 2021 else list(range(1,25)) for year in [2019,2020,2021] }\n"
   ]
  },
  {
   "cell_type": "markdown",
   "metadata": {},
   "source": [
    "##### getting schedule for week , JTK"
   ]
  },
  {
   "cell_type": "code",
   "execution_count": 54,
   "metadata": {},
   "outputs": [],
   "source": [
    "def get_schedule(year):\n",
    "    weeks = list(range(1,50))\n",
    "    schedule_df = pd.DataFrame()\n",
    "    for w in range(len(weeks)):\n",
    "        date_string = str(weeks[w]) + '-' + str(year)\n",
    "        try:\n",
    "            week_scores = Boxscores(weeks[w],year)\n",
    "        except:\n",
    "            continue\n",
    "        week_games_df = pd.DataFrame()\n",
    "        for g in range(len(week_scores.games[date_string])):\n",
    "            game = pd.DataFrame(week_scores.games[date_string][g], index = [0])[['away_name', 'away_abbr','home_name', 'home_abbr','winning_name', 'winning_abbr' ]]\n",
    "            game['week'] = weeks[w]\n",
    "            week_games_df = pd.concat([week_games_df,game])\n",
    "        schedule_df = pd.concat([schedule_df, week_games_df]).reset_index().drop(columns = 'index') \n",
    "        schedule_df['year']=year\n",
    "    return schedule_df "
   ]
  },
  {
   "cell_type": "code",
   "execution_count": 55,
   "metadata": {},
   "outputs": [
    {
     "name": "stdout",
     "output_type": "stream",
     "text": [
      "time taken to create schedule_df is %s 170.21640515327454\n"
     ]
    }
   ],
   "source": [
    "import time\n",
    "start_time=time.time()\n",
    "schedule_df=pd.DataFrame()\n",
    "for year in period.keys():\n",
    "    schedule_df=schedule_df.append(get_schedule(year),ignore_index=True)\n",
    "print('time taken to create schedule_df is %s', (time.time() - start_time))"
   ]
  },
  {
   "cell_type": "code",
   "execution_count": 59,
   "metadata": {},
   "outputs": [
    {
     "data": {
      "text/plain": [
       "dict_keys([2019, 2020, 2021])"
      ]
     },
     "execution_count": 59,
     "metadata": {},
     "output_type": "execute_result"
    }
   ],
   "source": [
    "period.keys()"
   ]
  },
  {
   "cell_type": "code",
   "execution_count": 6,
   "metadata": {},
   "outputs": [
    {
     "data": {
      "text/plain": [
       "(808, 8)"
      ]
     },
     "execution_count": 6,
     "metadata": {},
     "output_type": "execute_result"
    }
   ],
   "source": [
    "schedule_df.shape"
   ]
  },
  {
   "cell_type": "markdown",
   "metadata": {},
   "source": [
    "#### Getting Away, Home  datasets with BoxScores:"
   ]
  },
  {
   "cell_type": "code",
   "execution_count": 56,
   "metadata": {},
   "outputs": [],
   "source": [
    "# len(Boxscores(1,2019).games)"
   ]
  },
  {
   "cell_type": "code",
   "execution_count": 57,
   "metadata": {},
   "outputs": [],
   "source": [
    "# help(Boxscore('201909080sdg'))"
   ]
  },
  {
   "cell_type": "code",
   "execution_count": 58,
   "metadata": {},
   "outputs": [],
   "source": [
    "# columns=[x[1:] for x in Boxscore('201909080sdg').__dict__.keys()]"
   ]
  },
  {
   "cell_type": "code",
   "execution_count": 89,
   "metadata": {},
   "outputs": [],
   "source": [
    "#for every year, every week get away, home data for every game , and scedule data:\n",
    "def game_data_up_to_week(weeks,year):\n",
    "    game_df=pd.DataFrame()\n",
    "    for w in range(len(weeks)):\n",
    "        try:\n",
    "            date_string=str(w)+'-'+str(year)\n",
    "#             print(date_string)\n",
    "            week_scores=Boxscores(w,year)\n",
    "            for g in range(len(week_scores.games[date_string])):\n",
    "                temp=pd.DataFrame(week_scores.games[date_string][g],index=[0])\n",
    "#                 print(temp.shape)\n",
    "                temp['week']=weeks[w-1]\n",
    "                temp['year']=year\n",
    "                game_df=game_df.append(temp)\n",
    "        except:\n",
    "            pass\n",
    "    return   game_df      \n",
    "        "
   ]
  },
  {
   "cell_type": "markdown",
   "metadata": {},
   "source": [
    "#### Getting game_df i.e., daily which game happend and who was opponent"
   ]
  },
  {
   "cell_type": "code",
   "execution_count": 90,
   "metadata": {},
   "outputs": [
    {
     "name": "stdout",
     "output_type": "stream",
     "text": [
      "time taken to create weeks_games_df is %s 31.488192796707153\n"
     ]
    }
   ],
   "source": [
    "start_time=time.time()\n",
    "game_df=pd.DataFrame()\n",
    "for year,weeks in period.items():\n",
    "    game_df=game_df.append(game_data_up_to_week(weeks,year),ignore_index=True)\n",
    "print('time taken to create weeks_games_df is %s', (time.time() - start_time))\n",
    "game_df=game_df.reset_index().drop('index',axis=1)"
   ]
  },
  {
   "cell_type": "markdown",
   "metadata": {},
   "source": [
    "#### From Boxscores we need to get stats of every match for away team, and home team seperately"
   ]
  },
  {
   "cell_type": "code",
   "execution_count": 124,
   "metadata": {},
   "outputs": [],
   "source": [
    "def game_statistics(boxscore,columns=[]):\n",
    "    if columns==[]:\n",
    "        columns=[x[1:] for x in Boxscore(boxscore).__dict__.keys()]\n",
    "    stats=pd.DataFrame.from_dict(Boxscore(boxscore).__dict__.values()).T.copy()\n",
    "    stats.columns=columns\n",
    "    return stats\n"
   ]
  },
  {
   "cell_type": "code",
   "execution_count": 123,
   "metadata": {},
   "outputs": [
    {
     "data": {
      "text/html": [
       "<div>\n",
       "<style scoped>\n",
       "    .dataframe tbody tr th:only-of-type {\n",
       "        vertical-align: middle;\n",
       "    }\n",
       "\n",
       "    .dataframe tbody tr th {\n",
       "        vertical-align: top;\n",
       "    }\n",
       "\n",
       "    .dataframe thead th {\n",
       "        text-align: right;\n",
       "    }\n",
       "</style>\n",
       "<table border=\"1\" class=\"dataframe\">\n",
       "  <thead>\n",
       "    <tr style=\"text-align: right;\">\n",
       "      <th></th>\n",
       "      <th>uri</th>\n",
       "      <th>date</th>\n",
       "      <th>time</th>\n",
       "      <th>stadium</th>\n",
       "      <th>attendance</th>\n",
       "      <th>duration</th>\n",
       "      <th>away_name</th>\n",
       "      <th>home_name</th>\n",
       "      <th>winner</th>\n",
       "      <th>winning_name</th>\n",
       "      <th>...</th>\n",
       "      <th>home_yards_from_penalties</th>\n",
       "      <th>home_third_down_conversions</th>\n",
       "      <th>home_third_down_attempts</th>\n",
       "      <th>home_fourth_down_conversions</th>\n",
       "      <th>home_fourth_down_attempts</th>\n",
       "      <th>home_time_of_possession</th>\n",
       "      <th>away_abbr</th>\n",
       "      <th>home_abbr</th>\n",
       "      <th>away_players</th>\n",
       "      <th>home_players</th>\n",
       "    </tr>\n",
       "  </thead>\n",
       "  <tbody>\n",
       "    <tr>\n",
       "      <th>0</th>\n",
       "      <td>201909050chi</td>\n",
       "      <td>Thursday Sep 5, 2019</td>\n",
       "      <td>8:20pm</td>\n",
       "      <td>Soldier Field</td>\n",
       "      <td>62435</td>\n",
       "      <td>3:07</td>\n",
       "      <td>[[]]</td>\n",
       "      <td>[[]]</td>\n",
       "      <td>None</td>\n",
       "      <td>None</td>\n",
       "      <td>...</td>\n",
       "      <td>10-107</td>\n",
       "      <td>3-15</td>\n",
       "      <td>3-15</td>\n",
       "      <td>0-2</td>\n",
       "      <td>0-2</td>\n",
       "      <td>28:57</td>\n",
       "      <td>GNB</td>\n",
       "      <td>CHI</td>\n",
       "      <td>[&lt;sportsipy.nfl.boxscore.BoxscorePlayer object...</td>\n",
       "      <td>[&lt;sportsipy.nfl.boxscore.BoxscorePlayer object...</td>\n",
       "    </tr>\n",
       "  </tbody>\n",
       "</table>\n",
       "<p>1 rows × 72 columns</p>\n",
       "</div>"
      ],
      "text/plain": [
       "            uri                  date    time        stadium attendance  \\\n",
       "0  201909050chi  Thursday Sep 5, 2019  8:20pm  Soldier Field      62435   \n",
       "\n",
       "  duration away_name home_name winner winning_name  ...  \\\n",
       "0     3:07      [[]]      [[]]   None         None  ...   \n",
       "\n",
       "  home_yards_from_penalties home_third_down_conversions  \\\n",
       "0                    10-107                        3-15   \n",
       "\n",
       "  home_third_down_attempts home_fourth_down_conversions  \\\n",
       "0                     3-15                          0-2   \n",
       "\n",
       "  home_fourth_down_attempts home_time_of_possession away_abbr home_abbr  \\\n",
       "0                       0-2                   28:57       GNB       CHI   \n",
       "\n",
       "                                        away_players  \\\n",
       "0  [<sportsipy.nfl.boxscore.BoxscorePlayer object...   \n",
       "\n",
       "                                        home_players  \n",
       "0  [<sportsipy.nfl.boxscore.BoxscorePlayer object...  \n",
       "\n",
       "[1 rows x 72 columns]"
      ]
     },
     "execution_count": 123,
     "metadata": {},
     "output_type": "execute_result"
    }
   ],
   "source": []
  },
  {
   "cell_type": "code",
   "execution_count": 102,
   "metadata": {},
   "outputs": [
    {
     "data": {
      "text/plain": [
       "Boxscore for Green Bay Packers at Chicago Bears (Thursday Sep 5, 2019)"
      ]
     },
     "execution_count": 102,
     "metadata": {},
     "output_type": "execute_result"
    }
   ],
   "source": [
    "Boxscore('201909050chi')"
   ]
  },
  {
   "cell_type": "code",
   "execution_count": 125,
   "metadata": {},
   "outputs": [
    {
     "ename": "AttributeError",
     "evalue": "'bool' object has no attribute 'lower'",
     "output_type": "error",
     "traceback": [
      "\u001b[1;31m---------------------------------------------------------------------------\u001b[0m",
      "\u001b[1;31mAttributeError\u001b[0m                            Traceback (most recent call last)",
      "\u001b[1;32m<ipython-input-125-f8f692d09e4f>\u001b[0m in \u001b[0;36m<module>\u001b[1;34m\u001b[0m\n\u001b[1;32m----> 1\u001b[1;33m \u001b[0mpd\u001b[0m\u001b[1;33m.\u001b[0m\u001b[0mDataFrame\u001b[0m\u001b[1;33m.\u001b[0m\u001b[0mfrom_dict\u001b[0m\u001b[1;33m(\u001b[0m\u001b[0mBoxscore\u001b[0m\u001b[1;33m(\u001b[0m\u001b[1;34m'201909050chi'\u001b[0m\u001b[1;33m)\u001b[0m\u001b[1;33m.\u001b[0m\u001b[0m__dict__\u001b[0m\u001b[1;33m.\u001b[0m\u001b[0mvalues\u001b[0m\u001b[1;33m(\u001b[0m\u001b[1;33m)\u001b[0m\u001b[1;33m,\u001b[0m\u001b[0morient\u001b[0m\u001b[1;33m=\u001b[0m\u001b[1;32mTrue\u001b[0m\u001b[1;33m)\u001b[0m\u001b[1;33m\u001b[0m\u001b[1;33m\u001b[0m\u001b[0m\n\u001b[0m",
      "\u001b[1;32m~\\.conda\\envs\\deepo\\lib\\site-packages\\pandas\\core\\frame.py\u001b[0m in \u001b[0;36mfrom_dict\u001b[1;34m(cls, data, orient, dtype, columns)\u001b[0m\n\u001b[0;32m   1357\u001b[0m         \"\"\"\n\u001b[0;32m   1358\u001b[0m         \u001b[0mindex\u001b[0m \u001b[1;33m=\u001b[0m \u001b[1;32mNone\u001b[0m\u001b[1;33m\u001b[0m\u001b[1;33m\u001b[0m\u001b[0m\n\u001b[1;32m-> 1359\u001b[1;33m         \u001b[0morient\u001b[0m \u001b[1;33m=\u001b[0m \u001b[0morient\u001b[0m\u001b[1;33m.\u001b[0m\u001b[0mlower\u001b[0m\u001b[1;33m(\u001b[0m\u001b[1;33m)\u001b[0m\u001b[1;33m\u001b[0m\u001b[1;33m\u001b[0m\u001b[0m\n\u001b[0m\u001b[0;32m   1360\u001b[0m         \u001b[1;32mif\u001b[0m \u001b[0morient\u001b[0m \u001b[1;33m==\u001b[0m \u001b[1;34m\"index\"\u001b[0m\u001b[1;33m:\u001b[0m\u001b[1;33m\u001b[0m\u001b[1;33m\u001b[0m\u001b[0m\n\u001b[0;32m   1361\u001b[0m             \u001b[1;32mif\u001b[0m \u001b[0mlen\u001b[0m\u001b[1;33m(\u001b[0m\u001b[0mdata\u001b[0m\u001b[1;33m)\u001b[0m \u001b[1;33m>\u001b[0m \u001b[1;36m0\u001b[0m\u001b[1;33m:\u001b[0m\u001b[1;33m\u001b[0m\u001b[1;33m\u001b[0m\u001b[0m\n",
      "\u001b[1;31mAttributeError\u001b[0m: 'bool' object has no attribute 'lower'"
     ]
    }
   ],
   "source": [
    "pd.DataFrame.from_dict(Boxscore('201909050chi').__dict__.values(),orient='in')"
   ]
  },
  {
   "cell_type": "code",
   "execution_count": null,
   "metadata": {},
   "outputs": [],
   "source": []
  }
 ],
 "metadata": {
  "kernelspec": {
   "display_name": "Python 3",
   "language": "python",
   "name": "python3"
  },
  "language_info": {
   "codemirror_mode": {
    "name": "ipython",
    "version": 3
   },
   "file_extension": ".py",
   "mimetype": "text/x-python",
   "name": "python",
   "nbconvert_exporter": "python",
   "pygments_lexer": "ipython3",
   "version": "3.8.5"
  }
 },
 "nbformat": 4,
 "nbformat_minor": 4
}
